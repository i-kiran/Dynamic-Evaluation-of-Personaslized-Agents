{
 "cells": [
  {
   "cell_type": "code",
   "execution_count": 3,
   "metadata": {},
   "outputs": [],
   "source": [
    "import json\n",
    "import os\n"
   ]
  },
  {
   "cell_type": "code",
   "execution_count": 4,
   "metadata": {},
   "outputs": [],
   "source": [
    "\n",
    "def load_user_profiles_and_interviews(\n",
    "    profile_path=\"/home/azureuser/cloudfiles/code/Users/preetams/Dynamic-Evaluation-of-Personaslized-Agents/Dataset/user_profiles_refined_final.json\",\n",
    "    interview_dir=\"/home/azureuser/cloudfiles/code/Users/preetams/Dynamic-Evaluation-of-Personaslized-Agents/Results/Reference Interview\"\n",
    "):\n",
    "    user_data = {}\n",
    "\n",
    "    # Load the JSON user profile\n",
    "    with open(profile_path, 'r') as f:\n",
    "        profiles = json.load(f)\n",
    "\n",
    "    for user_id, profile in profiles.items():\n",
    "        interview_path = os.path.join(interview_dir, f\"{user_id}.txt\")\n",
    "        try:\n",
    "            with open(interview_path, 'r') as f:\n",
    "                interview_text = f.read()\n",
    "        except FileNotFoundError:\n",
    "            interview_text = None  # or \"\" if you'd prefer empty string\n",
    "            print(f\"Warning: Interview file not found for user {user_id}\")\n",
    "\n",
    "        user_data[user_id] = {\n",
    "            \"profile\": profile,\n",
    "            \"interview_text\": interview_text\n",
    "        }\n",
    "\n",
    "    return user_data\n"
   ]
  },
  {
   "cell_type": "code",
   "execution_count": 5,
   "metadata": {},
   "outputs": [],
   "source": [
    "user_data_dict = load_user_profiles_and_interviews()"
   ]
  },
  {
   "cell_type": "code",
   "execution_count": 7,
   "metadata": {},
   "outputs": [
    {
     "data": {
      "text/plain": [
       "{'profile': {'user_profile': {'Gender': 'Male',\n",
       "   'Age': '35-44',\n",
       "   'Occupation': 'Self-employed',\n",
       "   'Price Sensitivity': 'Medium',\n",
       "   'Shopping Interest': 'Health and wellness, outdoor gear, home essentials, tech gadgets',\n",
       "   'Brand Preference': 'Spoonk, adidas, Krinos, LifePro, Halsa, TP-Link, E EGOOZ, Hallmark, THE NORTH FACE, Thule, Spigen, VRS DESIGN, Oarkive, RYB HOME, Hanes, Amazon Basics, Apple, Garden of Life, Forge, OXO, FGO, B BANGKOK PANTS, Sanuk, KOS, Benicci',\n",
       "   'Diversity Preference': 'Medium',\n",
       "   'Interaction Complexity': 'Medium',\n",
       "   'Tone and Style': 'Enthusiastic, supportive, practical',\n",
       "   'Item Reference': 'Specific products and brands mentioned in reviews',\n",
       "   'Focus Aspect': 'Quality, functionality, brand reputation'}},\n",
       " 'interview_text': \"Assistant: Hey there! I'm looking for a high-quality EMF protection sleeve for my phone. Something reliable from a reputable brand that fits easily in pockets. Any suggestions?\\n\\nUser: Great! To help you find the perfect EMF protection sleeve for your phone, could you please share a bit more about your preferences? \\n\\n1. What phone model do you have, or what size should the sleeve ideally accommodate?\\n2. Do you have a preferred price range for this product?\\n3. Are you looking for any specific features, like additional pockets or material preferences? \\n\\nThis information will help me make more tailored suggestions for you!\\n\\nAssistant: Oh, and I'm super interested in the overall design too! I’m a fan of sleek, minimalistic aesthetics, but functionality is key. Also, if there are any discounts or promotions, that would be awesome to know. How durable are these sleeves usually? And are there any brands you think stand out in terms of quality? \\n\\nUser: Great! Thanks for sharing that information. To summarize, you're looking for a high-quality, durable EMF protection sleeve that fits your phone, emphasizing sleek, minimalistic designs while being functional. Let’s break this down a bit more:\\n\\n1. **Phone Model**: Could you confirm what model phone you’re using? This helps ensure a good fit.\\n2. **Price Range**: Do you have a maximum budget in mind?\\n3. **Durability Preferences**: Are you looking for something that can withstand daily wear and tear or something more stylish for occasional use?\\n\\nOnce I have this information, I can provide recommendations along with notable brands and available discounts!\\n\\nAssistant: Additionally, do you usually purchase from specific retailers, or are you open to exploring different stores for the best option? I’ve seen some brands providing interesting promotions lately, and it could be helpful to know your preferences!\\n\\nUser: Thank you for your patience! To better assist you, could you please answer a couple of quick questions regarding your purchasing preferences?\\n\\n1. **Retailers**: Do you usually purchase from specific retailers (like Amazon, Best Buy, or specialty health stores), or are you open to exploring multiple options for the best product and price?\\n2. **Promotions**: Are you particularly interested in online shopping, or do you also consider local stores? \\n\\nWith this information, I can provide you with targeted recommendations, including any relevant promotions or discounts!\\n\\nAssistant: I'm excited to see what options are out there! Just let me know when you're ready to share your thoughts!\\n\\nUser: Fantastic! I appreciate your enthusiasm. Here’s what I have gathered so far for your EMF protection sleeve:\\n\\n### Key Considerations:\\n- **Phone Model**: Please confirm your phone model to ensure a perfect fit.\\n- **Price Range**: A budget will help narrow down options effectively.\\n- **Retailer Preferences**: Let me know if you prefer specific retailers or if you’re open to exploring various stores.\\n\\n### Potential Brands:\\n1. **SafeSleeve**: Known for high-quality EMF protection with a minimalistic design. They usually have good durability and functionality.\\n2. **RadiArmor**: Offers stylish sleeves with a focus on aesthetics and protection.\\n3. **WaveWall**: Combines sleek designs with EMF shielding, popular among users for their practical approach.\\n\\n### Pricing and Discounts:\\n- Prices typically range from $20 to $50, depending on the brand and features.\\n- I will check for current promotions, but they often have sales during holidays or special events across various retailers.\\n\\nOnce you provide the last few details, I can offer more tailored product suggestions and check for the most competitive prices and any ongoing discounts!\\n\\nAssistant: What do you think? I'm really interested to hear more about your thoughts and what specifics you might want to include! Your feedback will really help in finding something that fits perfectly!\\n\\nUser: Thank you for your enthusiasm! Based on your interest in a high-quality EMF protection sleeve with a sleek, minimalistic design, here are some specific recommendations along with more details:\\n\\n### Recommended EMF Protection Sleeves:\\n\\n1. **SafeSleeve EMF Radiation Protection Phone Sleeve**  \\n   - **Fit**: Available in various sizes to accommodate different phone models.  \\n   - **Design**: Minimalistic and stylish, with a durable exterior.  \\n   - **Features**: Blocks EMF radiation while providing pockets for cards or cash.  \\n   - **Price**: Generally around $30 to $50.  \\n   - **Promotions**: Frequently has discounts during special sales events.\\n\\n2. **RadiArmor Phone Sleeve**  \\n   - **Fit**: Check size options to ensure a snug fit for your phone.  \\n   - **Design**: Offers a sleek, modern look while maintaining functionality.  \\n   - **Durability**: Made with strong materials for protection against wear and tear.  \\n   - **Price**: Around $25 to $45, depending on the model.  \\n   - **Promotions**: Occasionally runs bundle deals or site-wide discounts.\\n\\n3. **WaveWall Sleeve**  \\n   - **Fit**: Compatible with most standard smartphones.  \\n   - **Design**: Focus on elegance and simplicity, perfect for a minimalistic style.  \\n   - **Features**: Offers reliable EMF protection while being lightweight.  \\n   - **Price**: Typically ranges from $20 to $40.  \\n   - **Promotions**: Discounts might be available directly on their site or through retailers.\\n\\n### Additional Notes:\\n- **Durability**: Most of these sleeves are crafted with high-quality materials that resist wear and tear, making them suitable for daily use.\\n- **Retailer Suggestions**: These products are often available on popular online platforms such as Amazon, the brands’ official websites, or health-focused retailers. \\n\\n### Next Steps:\\n- Once you confirm your phone model and preferred price range, I can look up specific models that fit perfectly, check for stock availability, and see if there are any current discounts or promotions at your favorite retailers.\\n\\nLet me know your thoughts or if there's anything else you need to consider!\\n\\n\"}"
      ]
     },
     "execution_count": 7,
     "metadata": {},
     "output_type": "execute_result"
    }
   ],
   "source": [
    "user_data_dict['AGMQSZEQFFKH33FJQZLN7MF5QX2Q']"
   ]
  },
  {
   "cell_type": "code",
   "execution_count": 8,
   "metadata": {},
   "outputs": [
    {
     "data": {
      "text/plain": [
       "120"
      ]
     },
     "execution_count": 8,
     "metadata": {},
     "output_type": "execute_result"
    }
   ],
   "source": [
    "len(user_data_dict)"
   ]
  }
 ],
 "metadata": {
  "kernelspec": {
   "display_name": "azureml_py310_sdkv2",
   "language": "python",
   "name": "python3"
  },
  "language_info": {
   "codemirror_mode": {
    "name": "ipython",
    "version": 3
   },
   "file_extension": ".py",
   "mimetype": "text/x-python",
   "name": "python",
   "nbconvert_exporter": "python",
   "pygments_lexer": "ipython3",
   "version": "3.10.14"
  }
 },
 "nbformat": 4,
 "nbformat_minor": 2
}
